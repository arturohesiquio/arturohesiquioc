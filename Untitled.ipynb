{
 "cells": [
  {
   "cell_type": "markdown",
   "id": "51a371cd",
   "metadata": {},
   "source": [
    "\n",
    "# Markdown#\n",
    "\n",
    "Me llamo **Arturo Hesiquio**, tengo 19 años. Actualmente estudio la carrera de Ing. Civil en ITESO. Nací en Acapulco, Gro. Desde pequeño tuve interés en la Ingeniería ya que mi papá también se dedica a esto y yo siempre lo acompañaba a las obras que él hacía. Las cosas que me gustan hacer son: \n",
    "•\tJugar futbol\n",
    "•\tVer deportes\n",
    "•\tSalir de fiesta con mis amigos\n",
    "•\tViajar con mi familia\n",
    "*Introducción al cálculo estructural:*\n",
    "El cálculo estructural es una disciplina fundamental dentro de la ingeniería que se enfoca en el análisis y diseño de elementos y sistemas constructivos con el propósito de garantizar la seguridad, estabilidad y funcionalidad de las estructuras en diversas aplicaciones. Ya sea en la concepción de edificios, puentes, torres, presas u otras infraestructuras, el cálculo estructural desempeña un papel esencial para asegurar que las construcciones sean capaces de resistir las cargas y fuerzas a las que están sometidas en su entorno.\n",
    "Los temas que se abordan son\n",
    "1.\tAnálisis de Cargas\n",
    "2.\tMecánica de Materiales\n",
    "3.\tModelado y Simulación\n",
    "4.\tDiseño Estructural\n",
    "5.\tOptimización\n",
    "6.\tEvaluación Sísmica\n",
    "7.\tInnovación y Avances\n",
    "\n",
    "![](https://th.bing.com/th/id/R.390d593c354ab722f7c5b4fd432fb45c?rik=vcxOfJ5rdQuADA&pid=ImgRaw&r=0)"
   ]
  },
  {
   "cell_type": "code",
   "execution_count": null,
   "id": "8dc2834c",
   "metadata": {},
   "outputs": [],
   "source": []
  }
 ],
 "metadata": {
  "kernelspec": {
   "display_name": "Python 3 (ipykernel)",
   "language": "python",
   "name": "python3"
  },
  "language_info": {
   "codemirror_mode": {
    "name": "ipython",
    "version": 3
   },
   "file_extension": ".py",
   "mimetype": "text/x-python",
   "name": "python",
   "nbconvert_exporter": "python",
   "pygments_lexer": "ipython3",
   "version": "3.11.4"
  }
 },
 "nbformat": 4,
 "nbformat_minor": 5
}
